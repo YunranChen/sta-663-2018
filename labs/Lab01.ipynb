{
 "cells": [
  {
   "cell_type": "markdown",
   "metadata": {},
   "source": [
    "For this first set of exercises, we want to practice using only Python standard libaries. In particular, do not include `numpy`. Use `math` and `random` instead."
   ]
  },
  {
   "cell_type": "markdown",
   "metadata": {},
   "source": [
    "# Python data types, collections and flow control"
   ]
  },
  {
   "cell_type": "markdown",
   "metadata": {},
   "source": [
    "**1**. Make a list of the first 10 odd square numbers. (10 points)"
   ]
  },
  {
   "cell_type": "code",
   "execution_count": 95,
   "metadata": {
    "scrolled": true
   },
   "outputs": [
    {
     "name": "stdout",
     "output_type": "stream",
     "text": [
      "1\n",
      "9\n",
      "25\n",
      "49\n",
      "81\n",
      "121\n",
      "169\n",
      "225\n",
      "289\n",
      "361\n"
     ]
    }
   ],
   "source": [
    "for i in range(1,21)[::2]:\n",
    "    print(i**2)"
   ]
  },
  {
   "cell_type": "markdown",
   "metadata": {},
   "source": [
    "**2**. Some code is given below to generate two long lists of random interges. Find the integers present in both lists. (10 points)"
   ]
  },
  {
   "cell_type": "code",
   "execution_count": 7,
   "metadata": {},
   "outputs": [],
   "source": [
    "import random\n",
    "\n",
    "random.seed(123)\n",
    "\n",
    "lower = 0\n",
    "upper = 100000\n",
    "n = 1000\n",
    "\n",
    "x = [random.randint(lower, upper) for i in range(n)]\n",
    "y = [random.randint(lower, upper) for i in range(n)]"
   ]
  },
  {
   "cell_type": "code",
   "execution_count": 8,
   "metadata": {},
   "outputs": [
    {
     "data": {
      "text/plain": [
       "{2137, 8420, 8509, 18836, 25227, 35160, 49492, 56780, 59512, 88500, 99469}"
      ]
     },
     "execution_count": 8,
     "metadata": {},
     "output_type": "execute_result"
    }
   ],
   "source": [
    "set(x) & set(y)"
   ]
  },
  {
   "cell_type": "markdown",
   "metadata": {},
   "source": [
    "**3**. Make a list of the first 100 [triangular numbers](https://en.wikipedia.org/wiki/Triangular_number) starting from 0. (20 points)"
   ]
  },
  {
   "cell_type": "code",
   "execution_count": 10,
   "metadata": {},
   "outputs": [
    {
     "data": {
      "text/plain": [
       "[0.0,\n",
       " 1.0,\n",
       " 3.0,\n",
       " 6.0,\n",
       " 10.0,\n",
       " 15.0,\n",
       " 21.0,\n",
       " 28.0,\n",
       " 36.0,\n",
       " 45.0,\n",
       " 55.0,\n",
       " 66.0,\n",
       " 78.0,\n",
       " 91.0,\n",
       " 105.0,\n",
       " 120.0,\n",
       " 136.0,\n",
       " 153.0,\n",
       " 171.0,\n",
       " 190.0,\n",
       " 210.0,\n",
       " 231.0,\n",
       " 253.0,\n",
       " 276.0,\n",
       " 300.0,\n",
       " 325.0,\n",
       " 351.0,\n",
       " 378.0,\n",
       " 406.0,\n",
       " 435.0,\n",
       " 465.0,\n",
       " 496.0,\n",
       " 528.0,\n",
       " 561.0,\n",
       " 595.0,\n",
       " 630.0,\n",
       " 666.0,\n",
       " 703.0,\n",
       " 741.0,\n",
       " 780.0,\n",
       " 820.0,\n",
       " 861.0,\n",
       " 903.0,\n",
       " 946.0,\n",
       " 990.0,\n",
       " 1035.0,\n",
       " 1081.0,\n",
       " 1128.0,\n",
       " 1176.0,\n",
       " 1225.0,\n",
       " 1275.0,\n",
       " 1326.0,\n",
       " 1378.0,\n",
       " 1431.0,\n",
       " 1485.0,\n",
       " 1540.0,\n",
       " 1596.0,\n",
       " 1653.0,\n",
       " 1711.0,\n",
       " 1770.0,\n",
       " 1830.0,\n",
       " 1891.0,\n",
       " 1953.0,\n",
       " 2016.0,\n",
       " 2080.0,\n",
       " 2145.0,\n",
       " 2211.0,\n",
       " 2278.0,\n",
       " 2346.0,\n",
       " 2415.0,\n",
       " 2485.0,\n",
       " 2556.0,\n",
       " 2628.0,\n",
       " 2701.0,\n",
       " 2775.0,\n",
       " 2850.0,\n",
       " 2926.0,\n",
       " 3003.0,\n",
       " 3081.0,\n",
       " 3160.0,\n",
       " 3240.0,\n",
       " 3321.0,\n",
       " 3403.0,\n",
       " 3486.0,\n",
       " 3570.0,\n",
       " 3655.0,\n",
       " 3741.0,\n",
       " 3828.0,\n",
       " 3916.0,\n",
       " 4005.0,\n",
       " 4095.0,\n",
       " 4186.0,\n",
       " 4278.0,\n",
       " 4371.0,\n",
       " 4465.0,\n",
       " 4560.0,\n",
       " 4656.0,\n",
       " 4753.0,\n",
       " 4851.0,\n",
       " 4950.0]"
      ]
     },
     "execution_count": 10,
     "metadata": {},
     "output_type": "execute_result"
    }
   ],
   "source": [
    "[(i+1)*i/2 for i in range(100)]"
   ]
  },
  {
   "cell_type": "markdown",
   "metadata": {},
   "source": [
    "**4**. A DNA seqeunce is provided below. It should be treated as a single seqeunce - it is borken into multiple lines for display purposes.\n",
    "\n",
    "- Find the ratio of the base 'G' to the base 'C'\n",
    "- What is the reverse complement of the DNA sequence? (The complementary bases are A=T, C=G)\n",
    "- Make a dictionary of counts for each letter in the sequence. Do not count the newline character.\n",
    "\n",
    "(20 points)"
   ]
  },
  {
   "cell_type": "code",
   "execution_count": 26,
   "metadata": {},
   "outputs": [],
   "source": [
    "dna = \"\"\"\n",
    "TTTAAATTCCCTGGCACCCGCTGGAGTTCTCGATTTCGAC\n",
    "CAACCACGACGGTGTGATTCTGAATGTAGTTAGTATCTAC\n",
    "CCAGAGCTCAGGTCATATCGCGCCAAGCATAAAGGTGGCT\n",
    "GTTGAAAGTCGATGTCCGTATAAGTTCCGTTTCCTAATGA\n",
    "AACTGCTACGTAAGTCTAAAGTTATGAGCGCGGGCCGGGT\n",
    "TAAGGAAGCCCTACGGTTACTATATTACGCCAATATTTCT\n",
    "CATTCCCTTGCTTTGTTGATTAGGACAGAGGTCACCACAC\n",
    "CCGGAAGCCCGGTTCACGAGCTCCATCCAACGAGCCTTGC\n",
    "GAGGTATCGAGCAAACCAATATACTGCTAGGATCCGGTCT\n",
    "GGCGTTTTACCCCCATGAGATATAGTCCAGGTACTAAAAC\n",
    "CCTTCACCAGGGCAGAAGCGGGGTATACGCTGCCTACTCG\n",
    "TCATACAATTTCGGCTGGAGTTCGGTACGATAGACCGAGT\n",
    "CTGTCGGATACCCGGAAGAGTCACTCTGAAGTTGTACGAG\n",
    "GTGACTAGCTCAAAAGGAAGGGCGAAGAATGGTATGGTAC\n",
    "TCTAGAGCAGGCCATCTTTTACATAGGGCCCTTTGTTACC\n",
    "TTATGTAATGAACGTGGGAGCCCCGGACGTAAATTCTTTA\n",
    "GTCTCCCTAGACGCGTGGTCCCCACTAAATATACATGGTG\n",
    "AGCATCGCAGATACATGGCTTATCGAGGCCCGGGTCGTCA\n",
    "GAAAACGCGGTAAGTCATACGCATGTGCGGCGAATTAGCT\n",
    "TAGGGTGCGCATCTTCAAGCGGAAGTTCCCCCCGAGTGTC\n",
    "GACGCGTTCGTGCCATTAAAGCGTCTTCGAGTACGAATTA\n",
    "GACCAAGTCTGACGAAATTGCCTGAAGTTATAGGGGAAGT\n",
    "AGTCGAAGGGGACGGAGAACTTGTGAATCATAGCGCATGA\n",
    "GGAGATTAAGTCGGTTCATCAGCGTAACCACTTTAACCAC\n",
    "TAGTACGACCCCTGGATGAGTATTGTTCGTGTGTTTCCTC\n",
    "\"\"\""
   ]
  },
  {
   "cell_type": "code",
   "execution_count": 22,
   "metadata": {},
   "outputs": [],
   "source": [
    "import string"
   ]
  },
  {
   "cell_type": "code",
   "execution_count": 28,
   "metadata": {},
   "outputs": [
    {
     "data": {
      "text/plain": [
       "1.0886075949367089"
      ]
     },
     "execution_count": 28,
     "metadata": {},
     "output_type": "execute_result"
    }
   ],
   "source": [
    "#1.\n",
    "dna.count(\"G\")/dna.count(\"C\")"
   ]
  },
  {
   "cell_type": "code",
   "execution_count": 30,
   "metadata": {},
   "outputs": [
    {
     "name": "stdout",
     "output_type": "stream",
     "text": [
      "\n",
      "AAATTTAAGGGACCGTGGGCGACCTCAAGAGCTAAAGCTG\n",
      "GTTGGTGCTGCCACACTAAGACTTACATCAATCATAGATG\n",
      "GGTCTCGAGTCCAGTATAGCGCGGTTCGTATTTCCACCGA\n",
      "CAACTTTCAGCTACAGGCATATTCAAGGCAAAGGATTACT\n",
      "TTGACGATGCATTCAGATTTCAATACTCGCGCCCGGCCCA\n",
      "ATTCCTTCGGGATGCCAATGATATAATGCGGTTATAAAGA\n",
      "GTAAGGGAACGAAACAACTAATCCTGTCTCCAGTGGTGTG\n",
      "GGCCTTCGGGCCAAGTGCTCGAGGTAGGTTGCTCGGAACG\n",
      "CTCCATAGCTCGTTTGGTTATATGACGATCCTAGGCCAGA\n",
      "CCGCAAAATGGGGGTACTCTATATCAGGTCCATGATTTTG\n",
      "GGAAGTGGTCCCGTCTTCGCCCCATATGCGACGGATGAGC\n",
      "AGTATGTTAAAGCCGACCTCAAGCCATGCTATCTGGCTCA\n",
      "GACAGCCTATGGGCCTTCTCAGTGAGACTTCAACATGCTC\n",
      "CACTGATCGAGTTTTCCTTCCCGCTTCTTACCATACCATG\n",
      "AGATCTCGTCCGGTAGAAAATGTATCCCGGGAAACAATGG\n",
      "AATACATTACTTGCACCCTCGGGGCCTGCATTTAAGAAAT\n",
      "CAGAGGGATCTGCGCACCAGGGGTGATTTATATGTACCAC\n",
      "TCGTAGCGTCTATGTACCGAATAGCTCCGGGCCCAGCAGT\n",
      "CTTTTGCGCCATTCAGTATGCGTACACGCCGCTTAATCGA\n",
      "ATCCCACGCGTAGAAGTTCGCCTTCAAGGGGGGCTCACAG\n",
      "CTGCGCAAGCACGGTAATTTCGCAGAAGCTCATGCTTAAT\n",
      "CTGGTTCAGACTGCTTTAACGGACTTCAATATCCCCTTCA\n",
      "TCAGCTTCCCCTGCCTCTTGAACACTTAGTATCGCGTACT\n",
      "CCTCTAATTCAGCCAAGTAGTCGCATTGGTGAAATTGGTG\n",
      "ATCATGCTGGGGACCTACTCATAACAAGCACACAAAGGAG\n",
      "\n"
     ]
    }
   ],
   "source": [
    "#2.\n",
    "dna1=dna.replace(\"A\",\"t\")\n",
    "dna1=dna1.replace(\"C\",\"g\")\n",
    "dna1=dna1.replace(\"T\",\"A\")\n",
    "dna1=dna1.replace(\"G\",\"C\")\n",
    "dna1=dna1.replace(\"t\",\"T\")\n",
    "dna1=dna1.replace(\"g\",\"G\")\n",
    "print(dna1)"
   ]
  },
  {
   "cell_type": "code",
   "execution_count": 39,
   "metadata": {},
   "outputs": [
    {
     "data": {
      "text/plain": [
       "Counter({'A': 254, 'C': 237, 'G': 258, 'T': 251})"
      ]
     },
     "execution_count": 39,
     "metadata": {},
     "output_type": "execute_result"
    }
   ],
   "source": [
    "#3.\n",
    "import collections\n",
    "dna_dict=collections.Counter(dna)\n",
    "del dna_dict['\\n']\n",
    "dna_dict"
   ]
  },
  {
   "cell_type": "markdown",
   "metadata": {},
   "source": [
    "**5**. Buffon's needle is a mathematical thought experiment.\n",
    "\n",
    "Suppose there exist an infinite number of equally spaced parallel lines, and we were to randomly toss a needle whose length is less than or equal to the distance between adjacent lines. What is the probability that the needle will cross a line? The formula is \n",
    "$P = \\frac{2L}{\\pi D}$, where $D$ is the distance between two adjacent lines, and $L$ is the length of the needle.\n",
    "\n",
    "[Source: Wikipedia](https://en.wikipedia.org/wiki/Buffon%27s_noodle)\n",
    "\n",
    "Use a Monte Carlo simulation and elementary trignometry to estimate $\\pi$ using Buffon's needle by dropping 1 million  needles. (40 points)"
   ]
  },
  {
   "cell_type": "markdown",
   "metadata": {},
   "source": [
    "Answer:\n",
    "\n",
    "Idea: Generate random variables $d \\sim U[0,D/2]$, $\\theta \\sim U[0,\\pi/2]$ separately, get 1 million pairs $(d_i,\\theta_i)$. Then the $P=\\frac{\\#\\{\\frac{L}{2}sin\\theta \\ge d\\}}{1 million}$. Plug P we get here into the formula $\\pi=\\frac{2L}{PD}$ to appoximate $\\pi$"
   ]
  },
  {
   "cell_type": "code",
   "execution_count": 94,
   "metadata": {},
   "outputs": [
    {
     "data": {
      "text/plain": [
       "3.139781502605234"
      ]
     },
     "execution_count": 94,
     "metadata": {},
     "output_type": "execute_result"
    }
   ],
   "source": [
    "import random,math\n",
    "\n",
    "random.seed(123)\n",
    "D=1\n",
    "L=1\n",
    "n=1000000\n",
    "ind=[]\n",
    "for i in range(n):\n",
    "    d=random.uniform(0,D/2)\n",
    "    theta=random.uniform(0,math.pi/2)\n",
    "    ind.append(int(d <= math.sin(theta)*L/2))\n",
    "P=sum(ind)/n\n",
    "2*L/(P*D)"
   ]
  }
 ],
 "metadata": {
  "kernelspec": {
   "display_name": "Python 3",
   "language": "python",
   "name": "python3"
  },
  "language_info": {
   "codemirror_mode": {
    "name": "ipython",
    "version": 3
   },
   "file_extension": ".py",
   "mimetype": "text/x-python",
   "name": "python",
   "nbconvert_exporter": "python",
   "pygments_lexer": "ipython3",
   "version": "3.6.3"
  }
 },
 "nbformat": 4,
 "nbformat_minor": 2
}
