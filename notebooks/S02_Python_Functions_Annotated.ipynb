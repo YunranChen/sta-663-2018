{
 "cells": [
  {
   "cell_type": "markdown",
   "metadata": {},
   "source": [
    "# Python Functions"
   ]
  },
  {
   "cell_type": "code",
   "execution_count": 1,
   "metadata": {
    "collapsed": true
   },
   "outputs": [],
   "source": [
    "import numpy as np"
   ]
  },
  {
   "cell_type": "markdown",
   "metadata": {},
   "source": [
    "## Custom functions"
   ]
  },
  {
   "cell_type": "markdown",
   "metadata": {},
   "source": [
    "### Anatomy\n",
    "\n",
    "name, arguments, docstring, body, return statement"
   ]
  },
  {
   "cell_type": "code",
   "execution_count": 2,
   "metadata": {
    "collapsed": true
   },
   "outputs": [],
   "source": [
    "def func_name(arg1, arg2):\n",
    "    \"\"\"Docstring starts wtih a short description.\n",
    "    \n",
    "    May have more information here.\n",
    "    \n",
    "    arg1 = something\n",
    "    arg2 = somehting\n",
    "    \n",
    "    Returns something\n",
    "    \n",
    "    Example usage:\n",
    "    \n",
    "    func_name(1, 2)     \n",
    "    \"\"\"\n",
    "    result = arg1 + arg2\n",
    "    \n",
    "    return result"
   ]
  },
  {
   "cell_type": "code",
   "execution_count": 3,
   "metadata": {},
   "outputs": [
    {
     "name": "stdout",
     "output_type": "stream",
     "text": [
      "Help on function func_name in module __main__:\n",
      "\n",
      "func_name(arg1, arg2)\n",
      "    Docstring starts wtih a short description.\n",
      "    \n",
      "    May have more information here.\n",
      "    \n",
      "    arg1 = something\n",
      "    arg2 = somehting\n",
      "    \n",
      "    Returns something\n",
      "    \n",
      "    Example usage:\n",
      "    \n",
      "    func_name(1, 2)\n",
      "\n"
     ]
    }
   ],
   "source": [
    "help(func_name)"
   ]
  },
  {
   "cell_type": "markdown",
   "metadata": {},
   "source": [
    "### Function arguments\n",
    "\n",
    "place, keyword, keyword-only, defaults, mutatble an immutable arguments"
   ]
  },
  {
   "cell_type": "code",
   "execution_count": 2,
   "metadata": {},
   "outputs": [],
   "source": [
    "def f(a, b, c, *args, **kwargs):\n",
    "    return a, b, c, args, kwargs"
   ]
  },
  {
   "cell_type": "code",
   "execution_count": 3,
   "metadata": {},
   "outputs": [
    {
     "data": {
      "text/plain": [
       "(1, 2, 3, (4, 5, 6), {'x': 7, 'y': 8, 'z': 9})"
      ]
     },
     "execution_count": 3,
     "metadata": {},
     "output_type": "execute_result"
    }
   ],
   "source": [
    "f(1, 2, 3, 4, 5, 6, x=7, y=8, z=9)"
   ]
  },
  {
   "cell_type": "code",
   "execution_count": 4,
   "metadata": {},
   "outputs": [],
   "source": [
    "def g(a, b, c, *, x, y, z):\n",
    "    return a, b, c, x, y, z"
   ]
  },
  {
   "cell_type": "code",
   "execution_count": 7,
   "metadata": {},
   "outputs": [
    {
     "name": "stdout",
     "output_type": "stream",
     "text": [
      "g() takes 3 positional arguments but 6 were given\n"
     ]
    }
   ],
   "source": [
    "try:\n",
    "    g(1,2,3,4,5,6)\n",
    "except TypeError as e:\n",
    "    print(e)"
   ]
  },
  {
   "cell_type": "code",
   "execution_count": 5,
   "metadata": {},
   "outputs": [
    {
     "data": {
      "text/plain": [
       "(1, 2, 3, 4, 5, 6)"
      ]
     },
     "execution_count": 5,
     "metadata": {},
     "output_type": "execute_result"
    }
   ],
   "source": [
    "g(1,2,3,x=4,y=5,z=6)"
   ]
  },
  {
   "cell_type": "code",
   "execution_count": 9,
   "metadata": {},
   "outputs": [],
   "source": [
    "def h(a=1, b=2, c=3): #default\n",
    "    return a, b, c"
   ]
  },
  {
   "cell_type": "code",
   "execution_count": 10,
   "metadata": {},
   "outputs": [
    {
     "data": {
      "text/plain": [
       "(1, 2, 3)"
      ]
     },
     "execution_count": 10,
     "metadata": {},
     "output_type": "execute_result"
    }
   ],
   "source": [
    "h()"
   ]
  },
  {
   "cell_type": "code",
   "execution_count": 11,
   "metadata": {},
   "outputs": [
    {
     "data": {
      "text/plain": [
       "(1, 9, 3)"
      ]
     },
     "execution_count": 11,
     "metadata": {},
     "output_type": "execute_result"
    }
   ],
   "source": [
    "h(b=9)"
   ]
  },
  {
   "cell_type": "code",
   "execution_count": 12,
   "metadata": {},
   "outputs": [
    {
     "data": {
      "text/plain": [
       "(7, 8, 9)"
      ]
     },
     "execution_count": 12,
     "metadata": {},
     "output_type": "execute_result"
    }
   ],
   "source": [
    "h(7,8,9)"
   ]
  },
  {
   "cell_type": "code",
   "execution_count": 12,
   "metadata": {},
   "outputs": [],
   "source": [
    "def add(x, y):\n",
    "    \"\"\"Adds the auguments\"\"\"\n",
    "\n",
    "    return x + y"
   ]
  },
  {
   "cell_type": "code",
   "execution_count": 13,
   "metadata": {},
   "outputs": [
    {
     "data": {
      "text/plain": [
       "7"
      ]
     },
     "execution_count": 13,
     "metadata": {},
     "output_type": "execute_result"
    }
   ],
   "source": [
    "add(3,4)"
   ]
  },
  {
   "cell_type": "markdown",
   "metadata": {},
   "source": [
    "### Default mutable argumnet\n",
    "\n",
    "binding is fixed at function definition, the default=None idiom"
   ]
  },
  {
   "cell_type": "code",
   "execution_count": 14,
   "metadata": {},
   "outputs": [],
   "source": [
    "def f(a, x=[]):\n",
    "    x.append(a)\n",
    "    return x #no deterministic and have side effect--because x is list-mutable"
   ]
  },
  {
   "cell_type": "code",
   "execution_count": 15,
   "metadata": {},
   "outputs": [
    {
     "data": {
      "text/plain": [
       "[1]"
      ]
     },
     "execution_count": 15,
     "metadata": {},
     "output_type": "execute_result"
    }
   ],
   "source": [
    "f(1)"
   ]
  },
  {
   "cell_type": "code",
   "execution_count": 15,
   "metadata": {},
   "outputs": [
    {
     "data": {
      "text/plain": [
       "[1, 2]"
      ]
     },
     "execution_count": 15,
     "metadata": {},
     "output_type": "execute_result"
    }
   ],
   "source": [
    "f(2)"
   ]
  },
  {
   "cell_type": "code",
   "execution_count": null,
   "metadata": {},
   "outputs": [],
   "source": [
    "f(2,[])"
   ]
  },
  {
   "cell_type": "code",
   "execution_count": null,
   "metadata": {},
   "outputs": [],
   "source": []
  },
  {
   "cell_type": "code",
   "execution_count": 16,
   "metadata": {
    "collapsed": true
   },
   "outputs": [],
   "source": [
    "def f(a, x=None): ##make this immutable.\n",
    "    if x is None:\n",
    "        x = []\n",
    "    x.append(a)\n",
    "    return x"
   ]
  },
  {
   "cell_type": "code",
   "execution_count": 17,
   "metadata": {},
   "outputs": [
    {
     "data": {
      "text/plain": [
       "[1]"
      ]
     },
     "execution_count": 17,
     "metadata": {},
     "output_type": "execute_result"
    }
   ],
   "source": [
    "f(1)"
   ]
  },
  {
   "cell_type": "code",
   "execution_count": 18,
   "metadata": {},
   "outputs": [
    {
     "data": {
      "text/plain": [
       "[2]"
      ]
     },
     "execution_count": 18,
     "metadata": {},
     "output_type": "execute_result"
    }
   ],
   "source": [
    "f(2)"
   ]
  },
  {
   "cell_type": "markdown",
   "metadata": {},
   "source": [
    "## Pure functions\n",
    "\n",
    "deterministic, no side effects"
   ]
  },
  {
   "cell_type": "code",
   "execution_count": 18,
   "metadata": {},
   "outputs": [],
   "source": [
    "def f1(x):\n",
    "    \"\"\"Pure.\"\"\"\n",
    "    return x**2"
   ]
  },
  {
   "cell_type": "code",
   "execution_count": 19,
   "metadata": {},
   "outputs": [],
   "source": [
    "def f2(x):\n",
    "    \"\"\"Pure if we ignore local state change.\n",
    "    \n",
    "    The x in the function baheaves like a copy.\n",
    "    \"\"\"\n",
    "    x = x**2 \n",
    "    return x"
   ]
  },
  {
   "cell_type": "code",
   "execution_count": 20,
   "metadata": {},
   "outputs": [],
   "source": [
    "def f3(x):\n",
    "    \"\"\"Impure if x is mutable. \n",
    "    \n",
    "    Augmented assignemnt is an in-place operation for mutable structures.\"\"\"\n",
    "    x **= 2\n",
    "    return x"
   ]
  },
  {
   "cell_type": "code",
   "execution_count": 22,
   "metadata": {},
   "outputs": [],
   "source": [
    "import numpy as np\n",
    "a = 2\n",
    "b = np.array([1,2,3])"
   ]
  },
  {
   "cell_type": "code",
   "execution_count": 23,
   "metadata": {},
   "outputs": [
    {
     "data": {
      "text/plain": [
       "(4, 2)"
      ]
     },
     "execution_count": 23,
     "metadata": {},
     "output_type": "execute_result"
    }
   ],
   "source": [
    "f1(a), a"
   ]
  },
  {
   "cell_type": "code",
   "execution_count": 24,
   "metadata": {},
   "outputs": [
    {
     "data": {
      "text/plain": [
       "(array([1, 4, 9]), array([1, 2, 3]))"
      ]
     },
     "execution_count": 24,
     "metadata": {},
     "output_type": "execute_result"
    }
   ],
   "source": [
    "f1(b), b"
   ]
  },
  {
   "cell_type": "code",
   "execution_count": 25,
   "metadata": {},
   "outputs": [
    {
     "data": {
      "text/plain": [
       "(4, 2)"
      ]
     },
     "execution_count": 25,
     "metadata": {},
     "output_type": "execute_result"
    }
   ],
   "source": [
    "f2(a), a"
   ]
  },
  {
   "cell_type": "code",
   "execution_count": 26,
   "metadata": {},
   "outputs": [
    {
     "data": {
      "text/plain": [
       "(array([1, 4, 9]), array([1, 2, 3]))"
      ]
     },
     "execution_count": 26,
     "metadata": {},
     "output_type": "execute_result"
    }
   ],
   "source": [
    "f2(b), b"
   ]
  },
  {
   "cell_type": "code",
   "execution_count": 27,
   "metadata": {},
   "outputs": [
    {
     "data": {
      "text/plain": [
       "(4, 2)"
      ]
     },
     "execution_count": 27,
     "metadata": {},
     "output_type": "execute_result"
    }
   ],
   "source": [
    "f3(a), a"
   ]
  },
  {
   "cell_type": "code",
   "execution_count": 28,
   "metadata": {},
   "outputs": [
    {
     "data": {
      "text/plain": [
       "(array([1, 4, 9]), array([1, 4, 9]))"
      ]
     },
     "execution_count": 28,
     "metadata": {},
     "output_type": "execute_result"
    }
   ],
   "source": [
    "f3(b), b"
   ]
  },
  {
   "cell_type": "code",
   "execution_count": 30,
   "metadata": {},
   "outputs": [
    {
     "data": {
      "text/plain": [
       "1"
      ]
     },
     "execution_count": 30,
     "metadata": {},
     "output_type": "execute_result"
    }
   ],
   "source": [
    "x=1\n",
    "x **=2\n",
    "x"
   ]
  },
  {
   "cell_type": "code",
   "execution_count": 29,
   "metadata": {
    "collapsed": true
   },
   "outputs": [],
   "source": [
    "def f4():\n",
    "    \"\"\"Stochastic functions are tehcnically impure \n",
    "    since a global seed is changed between function calls.\"\"\"\n",
    "    \n",
    "    import random\n",
    "    return random.randint(0,10)"
   ]
  },
  {
   "cell_type": "code",
   "execution_count": 30,
   "metadata": {},
   "outputs": [
    {
     "data": {
      "text/plain": [
       "(1, 0, 7)"
      ]
     },
     "execution_count": 30,
     "metadata": {},
     "output_type": "execute_result"
    }
   ],
   "source": [
    "f4(), f4(), f4()"
   ]
  },
  {
   "cell_type": "markdown",
   "metadata": {},
   "source": [
    "## Recursive functions\n",
    "\n",
    "function is defined by itself.\n",
    "\n",
    "\n",
    "need to define base case +recursive case\n",
    "\n",
    "\n",
    "Euclidean GCD algorithm\n",
    "```\n",
    "gcd(a, 0) = a\n",
    "gcd(a, b) = gcd(b, a mod b)\n",
    "```"
   ]
  },
  {
   "cell_type": "code",
   "execution_count": 31,
   "metadata": {},
   "outputs": [],
   "source": [
    "def factorial(n):\n",
    "    \"\"\"Simple recursive funciton.\"\"\"\n",
    "    if n == 0:\n",
    "        return 1\n",
    "    else:\n",
    "        return n * factorial(n-1)"
   ]
  },
  {
   "cell_type": "code",
   "execution_count": 32,
   "metadata": {},
   "outputs": [
    {
     "data": {
      "text/plain": [
       "24"
      ]
     },
     "execution_count": 32,
     "metadata": {},
     "output_type": "execute_result"
    }
   ],
   "source": [
    "factorial(4)\n",
    "#python cannot do too many recursion:because it store the function each time"
   ]
  },
  {
   "cell_type": "code",
   "execution_count": 33,
   "metadata": {},
   "outputs": [],
   "source": [
    "def factorial1(n):\n",
    "    \"\"\"Non-recursive version.\"\"\"\n",
    "    s = 1\n",
    "    for i in range(1, n+1):\n",
    "        s *= i\n",
    "    return s"
   ]
  },
  {
   "cell_type": "code",
   "execution_count": 34,
   "metadata": {},
   "outputs": [
    {
     "data": {
      "text/plain": [
       "1"
      ]
     },
     "execution_count": 34,
     "metadata": {},
     "output_type": "execute_result"
    }
   ],
   "source": [
    "factorial1(4)"
   ]
  },
  {
   "cell_type": "code",
   "execution_count": 35,
   "metadata": {},
   "outputs": [],
   "source": [
    "def gcd(a, b):\n",
    "    if b == 0:\n",
    "        return a\n",
    "    else:\n",
    "        return gcd(b, a % b)"
   ]
  },
  {
   "cell_type": "code",
   "execution_count": 36,
   "metadata": {},
   "outputs": [
    {
     "data": {
      "text/plain": [
       "8"
      ]
     },
     "execution_count": 36,
     "metadata": {},
     "output_type": "execute_result"
    }
   ],
   "source": [
    "gcd(16, 24)"
   ]
  },
  {
   "cell_type": "markdown",
   "metadata": {},
   "source": [
    "## Generators\n",
    "\n",
    "yield and laziness, infinite streams"
   ]
  },
  {
   "cell_type": "code",
   "execution_count": 37,
   "metadata": {},
   "outputs": [],
   "source": [
    "def count(n=0):\n",
    "    while True:\n",
    "        yield n #yield make a generator\n",
    "        n += 1"
   ]
  },
  {
   "cell_type": "code",
   "execution_count": 38,
   "metadata": {},
   "outputs": [
    {
     "name": "stdout",
     "output_type": "stream",
     "text": [
      "10\n",
      "11\n",
      "12\n",
      "13\n",
      "14\n",
      "15\n"
     ]
    }
   ],
   "source": [
    "for i in count(10):\n",
    "    print(i)\n",
    "    if i >= 15:\n",
    "        break"
   ]
  },
  {
   "cell_type": "code",
   "execution_count": 39,
   "metadata": {},
   "outputs": [],
   "source": [
    "from itertools import islice"
   ]
  },
  {
   "cell_type": "code",
   "execution_count": 40,
   "metadata": {},
   "outputs": [
    {
     "data": {
      "text/plain": [
       "[10, 11, 12, 13, 14]"
      ]
     },
     "execution_count": 40,
     "metadata": {},
     "output_type": "execute_result"
    }
   ],
   "source": [
    "list(islice(count(), 10, 15))"
   ]
  },
  {
   "cell_type": "code",
   "execution_count": 41,
   "metadata": {},
   "outputs": [],
   "source": [
    "def updown(n):\n",
    "    yield from range(n)\n",
    "    yield from range(n, 0, -1)"
   ]
  },
  {
   "cell_type": "code",
   "execution_count": 42,
   "metadata": {},
   "outputs": [
    {
     "data": {
      "text/plain": [
       "<generator object updown at 0x7fc5698a85c8>"
      ]
     },
     "execution_count": 42,
     "metadata": {},
     "output_type": "execute_result"
    }
   ],
   "source": [
    "updown(5)"
   ]
  },
  {
   "cell_type": "code",
   "execution_count": 43,
   "metadata": {},
   "outputs": [
    {
     "data": {
      "text/plain": [
       "[0, 1, 2, 3, 4, 5, 4, 3, 2, 1]"
      ]
     },
     "execution_count": 43,
     "metadata": {},
     "output_type": "execute_result"
    }
   ],
   "source": [
    "list(updown(5))"
   ]
  },
  {
   "cell_type": "markdown",
   "metadata": {},
   "source": [
    "## First class functions\n",
    "\n",
    "functions as arguments, functions as return values"
   ]
  },
  {
   "cell_type": "code",
   "execution_count": 44,
   "metadata": {},
   "outputs": [],
   "source": [
    "def double(x):\n",
    "    return x*2\n",
    "\n",
    "def twice(x, func):\n",
    "    return func(func(x))"
   ]
  },
  {
   "cell_type": "code",
   "execution_count": 45,
   "metadata": {},
   "outputs": [
    {
     "data": {
      "text/plain": [
       "12"
      ]
     },
     "execution_count": 45,
     "metadata": {},
     "output_type": "execute_result"
    }
   ],
   "source": [
    "twice(3, double)"
   ]
  },
  {
   "cell_type": "markdown",
   "metadata": {},
   "source": [
    "Example from standard library"
   ]
  },
  {
   "cell_type": "code",
   "execution_count": 46,
   "metadata": {},
   "outputs": [],
   "source": [
    "xs = 'banana apple guava'.split()"
   ]
  },
  {
   "cell_type": "code",
   "execution_count": 47,
   "metadata": {},
   "outputs": [
    {
     "data": {
      "text/plain": [
       "['banana', 'apple', 'guava']"
      ]
     },
     "execution_count": 47,
     "metadata": {},
     "output_type": "execute_result"
    }
   ],
   "source": [
    "xs"
   ]
  },
  {
   "cell_type": "code",
   "execution_count": 48,
   "metadata": {},
   "outputs": [
    {
     "data": {
      "text/plain": [
       "['apple', 'banana', 'guava']"
      ]
     },
     "execution_count": 48,
     "metadata": {},
     "output_type": "execute_result"
    }
   ],
   "source": [
    "sorted(xs)"
   ]
  },
  {
   "cell_type": "code",
   "execution_count": 52,
   "metadata": {},
   "outputs": [
    {
     "data": {
      "text/plain": [
       "['apple', 'guava', 'banana']"
      ]
     },
     "execution_count": 52,
     "metadata": {},
     "output_type": "execute_result"
    }
   ],
   "source": [
    "sorted(xs, key=lambda s: s.count('a')) #shortcut lambda--use once. the function has no name"
   ]
  },
  {
   "cell_type": "code",
   "execution_count": 51,
   "metadata": {},
   "outputs": [
    {
     "ename": "SyntaxError",
     "evalue": "invalid syntax (<ipython-input-51-37e878958abf>, line 1)",
     "output_type": "error",
     "traceback": [
      "\u001b[0;36m  File \u001b[0;32m\"<ipython-input-51-37e878958abf>\"\u001b[0;36m, line \u001b[0;32m1\u001b[0m\n\u001b[0;31m    lambda(1)\u001b[0m\n\u001b[0m          ^\u001b[0m\n\u001b[0;31mSyntaxError\u001b[0m\u001b[0;31m:\u001b[0m invalid syntax\n"
     ]
    }
   ],
   "source": [
    "lambda(1)"
   ]
  },
  {
   "cell_type": "code",
   "execution_count": 54,
   "metadata": {},
   "outputs": [],
   "source": [
    "#function can be as input and output\n",
    "def f(n):\n",
    "    def g():\n",
    "        print(\"hello\")\n",
    "    def h():\n",
    "        print(\"goodbye\")\n",
    "    if n == 0:\n",
    "        return g\n",
    "    else:\n",
    "        return h"
   ]
  },
  {
   "cell_type": "code",
   "execution_count": 55,
   "metadata": {},
   "outputs": [
    {
     "name": "stdout",
     "output_type": "stream",
     "text": [
      "hello\n"
     ]
    }
   ],
   "source": [
    "fool = f(0)\n",
    "fool()"
   ]
  },
  {
   "cell_type": "code",
   "execution_count": 56,
   "metadata": {},
   "outputs": [
    {
     "name": "stdout",
     "output_type": "stream",
     "text": [
      "goodbye\n"
     ]
    }
   ],
   "source": [
    "fool2 = f(1)\n",
    "fool2()"
   ]
  },
  {
   "cell_type": "markdown",
   "metadata": {},
   "source": [
    "## Function dispatch\n",
    "\n",
    "Poor man's switch statement"
   ]
  },
  {
   "cell_type": "code",
   "execution_count": 57,
   "metadata": {},
   "outputs": [],
   "source": [
    "def add(x, y):\n",
    "    return x + y\n",
    "\n",
    "def mul(x, y):\n",
    "    return x * y"
   ]
  },
  {
   "cell_type": "code",
   "execution_count": 58,
   "metadata": {},
   "outputs": [],
   "source": [
    "ops = {\n",
    "    'a': add,\n",
    "    'm': mul\n",
    "}"
   ]
  },
  {
   "cell_type": "code",
   "execution_count": 59,
   "metadata": {},
   "outputs": [],
   "source": [
    "items = zip('aammaammam', range(10), range(10))"
   ]
  },
  {
   "cell_type": "code",
   "execution_count": 62,
   "metadata": {},
   "outputs": [
    {
     "name": "stdout",
     "output_type": "stream",
     "text": [
      "<zip object at 0x7fc569860188>\n"
     ]
    }
   ],
   "source": [
    "#zip(xs,ys,zs)\n",
    "#output:\n",
    "#(x0,y0,z0)\n",
    "#(x1,y1,z1)\n",
    "#stop at the shortest length\n",
    "#how to print(items)??"
   ]
  },
  {
   "cell_type": "code",
   "execution_count": 56,
   "metadata": {},
   "outputs": [
    {
     "name": "stdout",
     "output_type": "stream",
     "text": [
      "a 0 0 0\n",
      "a 1 1 2\n",
      "m 2 2 4\n",
      "m 3 3 9\n",
      "a 4 4 8\n",
      "a 5 5 10\n",
      "m 6 6 36\n",
      "m 7 7 49\n",
      "a 8 8 16\n",
      "m 9 9 81\n"
     ]
    }
   ],
   "source": [
    "for item in items:\n",
    "    key, x, y = item\n",
    "    op = ops[key]\n",
    "    print(key, x, y, op(x, y))"
   ]
  },
  {
   "cell_type": "markdown",
   "metadata": {},
   "source": [
    "## Closure\n",
    "\n",
    "Capture of argument in enclosing scope"
   ]
  },
  {
   "cell_type": "code",
   "execution_count": 63,
   "metadata": {},
   "outputs": [],
   "source": [
    "def f(x):\n",
    "    def g(y):\n",
    "        return x + y\n",
    "    return g"
   ]
  },
  {
   "cell_type": "code",
   "execution_count": 64,
   "metadata": {},
   "outputs": [],
   "source": [
    "f1 = f(0)\n",
    "f2 = f(10)"
   ]
  },
  {
   "cell_type": "code",
   "execution_count": 65,
   "metadata": {},
   "outputs": [
    {
     "data": {
      "text/plain": [
       "(5, 15)"
      ]
     },
     "execution_count": 65,
     "metadata": {},
     "output_type": "execute_result"
    }
   ],
   "source": [
    "f1(5), f2(5)"
   ]
  },
  {
   "cell_type": "markdown",
   "metadata": {},
   "source": [
    "## Decorators\n",
    "\n",
    "A timing decorator"
   ]
  },
  {
   "cell_type": "code",
   "execution_count": 66,
   "metadata": {},
   "outputs": [],
   "source": [
    "def timer(f):\n",
    "    import time\n",
    "    def g(*args, **kwargs):\n",
    "        tic = time.time()\n",
    "        res = f(*args, **kwargs)\n",
    "        toc = time.time()\n",
    "        return res, toc-tic\n",
    "    return g\n",
    "#decorator:closure on function"
   ]
  },
  {
   "cell_type": "code",
   "execution_count": 67,
   "metadata": {},
   "outputs": [],
   "source": [
    "def f(n):\n",
    "    s = 0\n",
    "    for i in range(n):\n",
    "        s += i\n",
    "    return s"
   ]
  },
  {
   "cell_type": "code",
   "execution_count": 62,
   "metadata": {},
   "outputs": [],
   "source": [
    "timed_f = timer(f)"
   ]
  },
  {
   "cell_type": "code",
   "execution_count": 63,
   "metadata": {},
   "outputs": [
    {
     "data": {
      "text/plain": [
       "(4999950000, 0.008098125457763672)"
      ]
     },
     "execution_count": 63,
     "metadata": {},
     "output_type": "execute_result"
    }
   ],
   "source": [
    "timed_f(100000)"
   ]
  },
  {
   "cell_type": "markdown",
   "metadata": {},
   "source": [
    "Decorator syntax"
   ]
  },
  {
   "cell_type": "code",
   "execution_count": 64,
   "metadata": {
    "collapsed": true
   },
   "outputs": [],
   "source": [
    "@timer\n",
    "def g(n):\n",
    "    s = 0\n",
    "    for i in range(n):\n",
    "        s += i\n",
    "    return s"
   ]
  },
  {
   "cell_type": "code",
   "execution_count": 65,
   "metadata": {},
   "outputs": [
    {
     "data": {
      "text/plain": [
       "(4999950000, 0.008046865463256836)"
      ]
     },
     "execution_count": 65,
     "metadata": {},
     "output_type": "execute_result"
    }
   ],
   "source": [
    "g(100000) #use @timer to decorator g() def before! --  and store in g() --cover it"
   ]
  },
  {
   "cell_type": "code",
   "execution_count": null,
   "metadata": {},
   "outputs": [],
   "source": [
    "#@numba.jit"
   ]
  },
  {
   "cell_type": "markdown",
   "metadata": {},
   "source": [
    "## Anonymous functions\n",
    "\n",
    "Short, one-use lambdas"
   ]
  },
  {
   "cell_type": "code",
   "execution_count": 66,
   "metadata": {
    "collapsed": true
   },
   "outputs": [],
   "source": [
    "f = lambda x: x**2"
   ]
  },
  {
   "cell_type": "code",
   "execution_count": 67,
   "metadata": {},
   "outputs": [
    {
     "data": {
      "text/plain": [
       "9"
      ]
     },
     "execution_count": 67,
     "metadata": {},
     "output_type": "execute_result"
    }
   ],
   "source": [
    "f(3)"
   ]
  },
  {
   "cell_type": "code",
   "execution_count": 68,
   "metadata": {
    "collapsed": true
   },
   "outputs": [],
   "source": [
    "g = lambda x, y: x+y #name the anonymous function"
   ]
  },
  {
   "cell_type": "code",
   "execution_count": 69,
   "metadata": {},
   "outputs": [
    {
     "data": {
      "text/plain": [
       "7"
      ]
     },
     "execution_count": 69,
     "metadata": {},
     "output_type": "execute_result"
    }
   ],
   "source": [
    "g(3,4)"
   ]
  },
  {
   "cell_type": "markdown",
   "metadata": {},
   "source": [
    "## Map, filter and reduce\n",
    "\n",
    "Funcitonal building blocks\n",
    "\n",
    "map as for loop -- generator -- as map in R\n",
    "\n",
    "filter as filter in R \n",
    "\n",
    "reduce as reduction\n",
    "\n",
    "most case first do filter then map. filter can reduce computation a lot."
   ]
  },
  {
   "cell_type": "code",
   "execution_count": 68,
   "metadata": {},
   "outputs": [
    {
     "data": {
      "text/plain": [
       "[0, 1, 4, 9, 16, 25, 36, 49, 64, 81]"
      ]
     },
     "execution_count": 68,
     "metadata": {},
     "output_type": "execute_result"
    }
   ],
   "source": [
    "xs = range(10)\n",
    "list(map(lambda x: x**2, xs))"
   ]
  },
  {
   "cell_type": "code",
   "execution_count": 69,
   "metadata": {},
   "outputs": [
    {
     "data": {
      "text/plain": [
       "[0, 2, 4, 6, 8]"
      ]
     },
     "execution_count": 69,
     "metadata": {},
     "output_type": "execute_result"
    }
   ],
   "source": [
    "list(filter(lambda x: x%2 == 0, xs))"
   ]
  },
  {
   "cell_type": "code",
   "execution_count": 73,
   "metadata": {},
   "outputs": [],
   "source": [
    "from functools import reduce"
   ]
  },
  {
   "cell_type": "code",
   "execution_count": 73,
   "metadata": {},
   "outputs": [
    {
     "data": {
      "text/plain": [
       "45"
      ]
     },
     "execution_count": 73,
     "metadata": {},
     "output_type": "execute_result"
    }
   ],
   "source": [
    "reduce(lambda x, y: x+y, xs)"
   ]
  },
  {
   "cell_type": "code",
   "execution_count": 74,
   "metadata": {},
   "outputs": [
    {
     "data": {
      "text/plain": [
       "145"
      ]
     },
     "execution_count": 74,
     "metadata": {},
     "output_type": "execute_result"
    }
   ],
   "source": [
    "reduce(lambda x, y: x+y, xs, 100)"
   ]
  },
  {
   "cell_type": "markdown",
   "metadata": {},
   "source": [
    "## Functional modules in the standard library\n",
    "\n",
    "itertools, functional and operator"
   ]
  },
  {
   "cell_type": "code",
   "execution_count": 74,
   "metadata": {},
   "outputs": [],
   "source": [
    "import operator as op"
   ]
  },
  {
   "cell_type": "code",
   "execution_count": 75,
   "metadata": {},
   "outputs": [
    {
     "data": {
      "text/plain": [
       "45"
      ]
     },
     "execution_count": 75,
     "metadata": {},
     "output_type": "execute_result"
    }
   ],
   "source": [
    "reduce(op.add, range(10))"
   ]
  },
  {
   "cell_type": "code",
   "execution_count": 76,
   "metadata": {},
   "outputs": [],
   "source": [
    "import itertools as it"
   ]
  },
  {
   "cell_type": "code",
   "execution_count": 77,
   "metadata": {},
   "outputs": [
    {
     "data": {
      "text/plain": [
       "[2, 3, 1, 2, 3, 1, 2, 3, 1]"
      ]
     },
     "execution_count": 77,
     "metadata": {},
     "output_type": "execute_result"
    }
   ],
   "source": [
    "list(it.islice(it.cycle([1,2,3]), 1, 10))"
   ]
  },
  {
   "cell_type": "code",
   "execution_count": 79,
   "metadata": {},
   "outputs": [
    {
     "data": {
      "text/plain": [
       "[('a', 'b'), ('a', 'c'), ('b', 'a'), ('b', 'c'), ('c', 'a'), ('c', 'b')]"
      ]
     },
     "execution_count": 79,
     "metadata": {},
     "output_type": "execute_result"
    }
   ],
   "source": [
    "list(it.permutations('abc', 2))"
   ]
  },
  {
   "cell_type": "code",
   "execution_count": 80,
   "metadata": {},
   "outputs": [
    {
     "data": {
      "text/plain": [
       "[('a', 'b'), ('a', 'c'), ('b', 'c')]"
      ]
     },
     "execution_count": 80,
     "metadata": {},
     "output_type": "execute_result"
    }
   ],
   "source": [
    "list(it.combinations('abc', 2))"
   ]
  },
  {
   "cell_type": "code",
   "execution_count": 81,
   "metadata": {},
   "outputs": [],
   "source": [
    "from functools import partial, lru_cache"
   ]
  },
  {
   "cell_type": "code",
   "execution_count": 82,
   "metadata": {},
   "outputs": [],
   "source": [
    "def f(a, b, c):\n",
    "    return a + b + c"
   ]
  },
  {
   "cell_type": "code",
   "execution_count": 84,
   "metadata": {},
   "outputs": [],
   "source": [
    "g = partial(f, b = 2, c=3) #change the number for auguments"
   ]
  },
  {
   "cell_type": "code",
   "execution_count": 85,
   "metadata": {},
   "outputs": [
    {
     "data": {
      "text/plain": [
       "6"
      ]
     },
     "execution_count": 85,
     "metadata": {},
     "output_type": "execute_result"
    }
   ],
   "source": [
    "g(1)"
   ]
  },
  {
   "cell_type": "code",
   "execution_count": 86,
   "metadata": {},
   "outputs": [],
   "source": [
    "def fib(n, trace=False): #fibonacci seq\n",
    "    if trace: #to show the function be called for recuresive function\n",
    "        print(\"fib(%d)\" % n, end=',')\n",
    "    if n <= 2:\n",
    "        return 1\n",
    "    else:\n",
    "        return fib(n-1, trace) + fib(n-2, trace)"
   ]
  },
  {
   "cell_type": "code",
   "execution_count": 86,
   "metadata": {
    "scrolled": false
   },
   "outputs": [
    {
     "name": "stdout",
     "output_type": "stream",
     "text": [
      "fib(10),fib(9),fib(8),fib(7),fib(6),fib(5),fib(4),fib(3),fib(2),fib(1),fib(2),fib(3),fib(2),fib(1),fib(4),fib(3),fib(2),fib(1),fib(2),fib(5),fib(4),fib(3),fib(2),fib(1),fib(2),fib(3),fib(2),fib(1),fib(6),fib(5),fib(4),fib(3),fib(2),fib(1),fib(2),fib(3),fib(2),fib(1),fib(4),fib(3),fib(2),fib(1),fib(2),fib(7),fib(6),fib(5),fib(4),fib(3),fib(2),fib(1),fib(2),fib(3),fib(2),fib(1),fib(4),fib(3),fib(2),fib(1),fib(2),fib(5),fib(4),fib(3),fib(2),fib(1),fib(2),fib(3),fib(2),fib(1),fib(8),fib(7),fib(6),fib(5),fib(4),fib(3),fib(2),fib(1),fib(2),fib(3),fib(2),fib(1),fib(4),fib(3),fib(2),fib(1),fib(2),fib(5),fib(4),fib(3),fib(2),fib(1),fib(2),fib(3),fib(2),fib(1),fib(6),fib(5),fib(4),fib(3),fib(2),fib(1),fib(2),fib(3),fib(2),fib(1),fib(4),fib(3),fib(2),fib(1),fib(2),"
     ]
    },
    {
     "data": {
      "text/plain": [
       "55"
      ]
     },
     "execution_count": 86,
     "metadata": {},
     "output_type": "execute_result"
    }
   ],
   "source": [
    "fib(10, True)"
   ]
  },
  {
   "cell_type": "code",
   "execution_count": 87,
   "metadata": {},
   "outputs": [
    {
     "name": "stdout",
     "output_type": "stream",
     "text": [
      "2.9 ms ± 0 ns per loop (mean ± std. dev. of 1 run, 100 loops each)\n"
     ]
    }
   ],
   "source": [
    "%timeit -r1 -n100 fib(20)"
   ]
  },
  {
   "cell_type": "code",
   "execution_count": 88,
   "metadata": {
    "collapsed": true
   },
   "outputs": [],
   "source": [
    "@lru_cache(3)\n",
    "def fib1(n, trace=False):\n",
    "    if trace:\n",
    "        print(\"fib(%d)\" % n, end=',')\n",
    "    if n <= 2:\n",
    "        return 1\n",
    "    else:\n",
    "        return fib1(n-1, trace) + fib1(n-2, trace)"
   ]
  },
  {
   "cell_type": "code",
   "execution_count": 89,
   "metadata": {},
   "outputs": [
    {
     "name": "stdout",
     "output_type": "stream",
     "text": [
      "fib(10),fib(9),fib(8),fib(7),fib(6),fib(5),fib(4),fib(3),fib(2),fib(1),"
     ]
    },
    {
     "data": {
      "text/plain": [
       "55"
      ]
     },
     "execution_count": 89,
     "metadata": {},
     "output_type": "execute_result"
    }
   ],
   "source": [
    "fib1(10, True)"
   ]
  },
  {
   "cell_type": "code",
   "execution_count": 90,
   "metadata": {},
   "outputs": [
    {
     "name": "stdout",
     "output_type": "stream",
     "text": [
      "343 ns ± 0 ns per loop (mean ± std. dev. of 1 run, 100 loops each)\n"
     ]
    }
   ],
   "source": [
    "%timeit -r1 -n100 fib1(20)"
   ]
  },
  {
   "cell_type": "markdown",
   "metadata": {},
   "source": [
    "## Using `toolz`\n",
    "\n",
    "funcitonal power tools"
   ]
  },
  {
   "cell_type": "code",
   "execution_count": 91,
   "metadata": {
    "collapsed": true
   },
   "outputs": [],
   "source": [
    "import toolz as tz\n",
    "import toolz.curried as c"
   ]
  },
  {
   "cell_type": "markdown",
   "metadata": {},
   "source": [
    "Find the 5 most common sequences of length 3 in the dna variable."
   ]
  },
  {
   "cell_type": "code",
   "execution_count": 92,
   "metadata": {},
   "outputs": [],
   "source": [
    "dna = np.random.choice(list('ACTG'), (10,80), p=[.1,.2,.3,.4])"
   ]
  },
  {
   "cell_type": "code",
   "execution_count": 93,
   "metadata": {},
   "outputs": [
    {
     "data": {
      "text/plain": [
       "array([['C', 'G', 'A', 'T', 'C', 'G', 'T', 'A', 'C', 'G', 'A', 'G', 'G',\n",
       "        'A', 'G', 'T', 'G', 'G', 'C', 'C', 'G', 'G', 'T', 'G', 'C', 'A',\n",
       "        'G', 'T', 'G', 'T', 'T', 'A', 'C', 'G', 'G', 'A', 'G', 'G', 'T',\n",
       "        'G', 'T', 'G', 'T', 'A', 'G', 'A', 'G', 'G', 'C', 'C', 'G', 'C',\n",
       "        'T', 'T', 'T', 'G', 'A', 'T', 'G', 'C', 'T', 'C', 'G', 'T', 'G',\n",
       "        'G', 'T', 'C', 'G', 'G', 'T', 'G', 'T', 'G', 'C', 'A', 'G', 'C',\n",
       "        'G', 'T'],\n",
       "       ['G', 'G', 'G', 'G', 'G', 'T', 'G', 'T', 'A', 'C', 'G', 'G', 'C',\n",
       "        'C', 'G', 'A', 'T', 'C', 'T', 'G', 'G', 'G', 'T', 'T', 'A', 'C',\n",
       "        'T', 'G', 'G', 'T', 'T', 'G', 'C', 'T', 'G', 'G', 'A', 'G', 'G',\n",
       "        'G', 'T', 'T', 'G', 'G', 'G', 'C', 'C', 'T', 'G', 'G', 'G', 'C',\n",
       "        'G', 'A', 'A', 'C', 'G', 'T', 'G', 'T', 'A', 'G', 'T', 'T', 'C',\n",
       "        'C', 'A', 'C', 'G', 'G', 'A', 'G', 'T', 'G', 'G', 'T', 'G', 'C',\n",
       "        'T', 'T'],\n",
       "       ['T', 'C', 'A', 'G', 'G', 'C', 'G', 'G', 'T', 'C', 'G', 'C', 'C',\n",
       "        'A', 'G', 'G', 'G', 'C', 'A', 'G', 'A', 'C', 'G', 'G', 'G', 'G',\n",
       "        'T', 'C', 'C', 'C', 'G', 'G', 'G', 'G', 'G', 'G', 'T', 'T', 'G',\n",
       "        'T', 'G', 'T', 'A', 'A', 'C', 'A', 'C', 'C', 'T', 'T', 'G', 'G',\n",
       "        'T', 'G', 'A', 'G', 'A', 'T', 'G', 'G', 'C', 'G', 'A', 'G', 'T',\n",
       "        'C', 'T', 'G', 'C', 'C', 'T', 'C', 'T', 'G', 'C', 'G', 'G', 'G',\n",
       "        'G', 'G'],\n",
       "       ['C', 'G', 'G', 'C', 'G', 'T', 'G', 'A', 'C', 'G', 'T', 'G', 'G',\n",
       "        'C', 'A', 'G', 'T', 'G', 'T', 'G', 'G', 'G', 'G', 'G', 'G', 'G',\n",
       "        'G', 'C', 'T', 'T', 'T', 'G', 'A', 'G', 'C', 'G', 'T', 'T', 'A',\n",
       "        'T', 'G', 'G', 'G', 'C', 'C', 'A', 'C', 'C', 'G', 'G', 'G', 'G',\n",
       "        'C', 'A', 'T', 'T', 'G', 'T', 'T', 'T', 'C', 'T', 'G', 'C', 'G',\n",
       "        'G', 'C', 'G', 'T', 'C', 'G', 'C', 'T', 'G', 'T', 'A', 'G', 'C',\n",
       "        'A', 'G'],\n",
       "       ['G', 'C', 'T', 'A', 'G', 'G', 'G', 'G', 'T', 'G', 'G', 'G', 'T',\n",
       "        'A', 'G', 'C', 'G', 'C', 'G', 'T', 'T', 'G', 'G', 'G', 'C', 'T',\n",
       "        'G', 'A', 'G', 'T', 'G', 'G', 'C', 'T', 'C', 'A', 'C', 'T', 'G',\n",
       "        'A', 'G', 'G', 'G', 'T', 'T', 'G', 'C', 'G', 'G', 'A', 'G', 'G',\n",
       "        'G', 'T', 'T', 'C', 'A', 'G', 'G', 'C', 'G', 'T', 'T', 'G', 'A',\n",
       "        'T', 'G', 'G', 'G', 'T', 'G', 'G', 'C', 'G', 'G', 'T', 'C', 'A',\n",
       "        'G', 'T'],\n",
       "       ['C', 'C', 'G', 'T', 'C', 'C', 'T', 'C', 'G', 'G', 'C', 'A', 'A',\n",
       "        'A', 'C', 'A', 'T', 'G', 'T', 'A', 'G', 'G', 'G', 'G', 'A', 'T',\n",
       "        'G', 'G', 'C', 'C', 'A', 'G', 'C', 'G', 'T', 'T', 'G', 'G', 'T',\n",
       "        'A', 'G', 'C', 'A', 'T', 'T', 'A', 'G', 'G', 'G', 'C', 'G', 'T',\n",
       "        'G', 'T', 'A', 'G', 'C', 'G', 'C', 'G', 'T', 'G', 'C', 'C', 'C',\n",
       "        'A', 'G', 'C', 'G', 'C', 'G', 'T', 'T', 'G', 'T', 'T', 'G', 'T',\n",
       "        'G', 'G'],\n",
       "       ['C', 'A', 'G', 'C', 'G', 'G', 'A', 'A', 'G', 'C', 'T', 'G', 'T',\n",
       "        'C', 'G', 'C', 'T', 'G', 'C', 'C', 'C', 'G', 'G', 'T', 'T', 'C',\n",
       "        'T', 'T', 'G', 'G', 'T', 'C', 'G', 'G', 'G', 'G', 'T', 'C', 'T',\n",
       "        'G', 'G', 'T', 'T', 'G', 'T', 'T', 'G', 'C', 'G', 'G', 'G', 'G',\n",
       "        'G', 'G', 'G', 'T', 'C', 'T', 'T', 'G', 'A', 'T', 'A', 'T', 'C',\n",
       "        'T', 'G', 'C', 'C', 'G', 'G', 'T', 'A', 'T', 'G', 'T', 'A', 'C',\n",
       "        'C', 'T'],\n",
       "       ['G', 'G', 'T', 'G', 'A', 'T', 'C', 'G', 'T', 'T', 'G', 'G', 'T',\n",
       "        'G', 'C', 'C', 'T', 'T', 'T', 'G', 'G', 'C', 'T', 'C', 'T', 'T',\n",
       "        'G', 'C', 'G', 'G', 'C', 'T', 'T', 'T', 'G', 'G', 'G', 'T', 'C',\n",
       "        'G', 'G', 'T', 'G', 'G', 'T', 'C', 'A', 'A', 'T', 'G', 'G', 'T',\n",
       "        'G', 'T', 'T', 'G', 'G', 'G', 'A', 'C', 'G', 'C', 'G', 'T', 'C',\n",
       "        'C', 'T', 'C', 'G', 'G', 'G', 'T', 'C', 'G', 'C', 'G', 'T', 'G',\n",
       "        'G', 'G'],\n",
       "       ['G', 'G', 'C', 'T', 'G', 'C', 'T', 'T', 'T', 'G', 'T', 'G', 'A',\n",
       "        'C', 'G', 'T', 'A', 'C', 'G', 'C', 'A', 'G', 'A', 'T', 'G', 'T',\n",
       "        'T', 'T', 'A', 'G', 'T', 'T', 'T', 'T', 'G', 'T', 'G', 'C', 'G',\n",
       "        'G', 'C', 'G', 'T', 'G', 'G', 'G', 'G', 'T', 'G', 'C', 'G', 'T',\n",
       "        'G', 'T', 'G', 'G', 'G', 'T', 'T', 'A', 'G', 'G', 'T', 'G', 'G',\n",
       "        'T', 'T', 'G', 'C', 'A', 'C', 'A', 'C', 'T', 'G', 'T', 'A', 'G',\n",
       "        'T', 'G'],\n",
       "       ['G', 'C', 'T', 'T', 'A', 'T', 'T', 'G', 'G', 'G', 'T', 'G', 'T',\n",
       "        'G', 'C', 'T', 'C', 'G', 'C', 'C', 'G', 'T', 'T', 'A', 'G', 'G',\n",
       "        'G', 'A', 'G', 'A', 'A', 'C', 'G', 'A', 'C', 'G', 'G', 'T', 'T',\n",
       "        'C', 'G', 'G', 'C', 'G', 'C', 'G', 'G', 'C', 'G', 'T', 'T', 'G',\n",
       "        'T', 'G', 'C', 'T', 'C', 'G', 'C', 'C', 'C', 'G', 'G', 'T', 'G',\n",
       "        'C', 'C', 'C', 'A', 'T', 'T', 'T', 'T', 'A', 'G', 'G', 'G', 'G',\n",
       "        'C', 'T']],\n",
       "      dtype='<U1')"
      ]
     },
     "execution_count": 93,
     "metadata": {},
     "output_type": "execute_result"
    }
   ],
   "source": [
    "dna"
   ]
  },
  {
   "cell_type": "code",
   "execution_count": 94,
   "metadata": {},
   "outputs": [
    {
     "data": {
      "text/plain": [
       "['CGATCGTACGAGGAGTGGCCGGTGCAGTGTTACGGAGGTGTGTAGAGGCCGCTTTGATGCTCGTGGTCGGTGTGCAGCGT',\n",
       " 'GGGGGTGTACGGCCGATCTGGGTTACTGGTTGCTGGAGGGTTGGGCCTGGGCGAACGTGTAGTTCCACGGAGTGGTGCTT',\n",
       " 'TCAGGCGGTCGCCAGGGCAGACGGGGTCCCGGGGGGTTGTGTAACACCTTGGTGAGATGGCGAGTCTGCCTCTGCGGGGG',\n",
       " 'CGGCGTGACGTGGCAGTGTGGGGGGGGCTTTGAGCGTTATGGGCCACCGGGGCATTGTTTCTGCGGCGTCGCTGTAGCAG',\n",
       " 'GCTAGGGGTGGGTAGCGCGTTGGGCTGAGTGGCTCACTGAGGGTTGCGGAGGGTTCAGGCGTTGATGGGTGGCGGTCAGT',\n",
       " 'CCGTCCTCGGCAAACATGTAGGGGATGGCCAGCGTTGGTAGCATTAGGGCGTGTAGCGCGTGCCCAGCGCGTTGTTGTGG',\n",
       " 'CAGCGGAAGCTGTCGCTGCCCGGTTCTTGGTCGGGGTCTGGTTGTTGCGGGGGGGTCTTGATATCTGCCGGTATGTACCT',\n",
       " 'GGTGATCGTTGGTGCCTTTGGCTCTTGCGGCTTTGGGTCGGTGGTCAATGGTGTTGGGACGCGTCCTCGGGTCGCGTGGG',\n",
       " 'GGCTGCTTTGTGACGTACGCAGATGTTTAGTTTTGTGCGGCGTGGGGTGCGTGTGGGTTAGGTGGTTGCACACTGTAGTG',\n",
       " 'GCTTATTGGGTGTGCTCGCCGTTAGGGAGAACGACGGTTCGGCGCGGCGTTGTGCTCGCCCGGTGCCCATTTTAGGGGCT']"
      ]
     },
     "execution_count": 94,
     "metadata": {},
     "output_type": "execute_result"
    }
   ],
   "source": [
    "tz.pipe(\n",
    "    dna,\n",
    "    c.map(lambda s: ''.join(s)),\n",
    "    list\n",
    ")"
   ]
  },
  {
   "cell_type": "code",
   "execution_count": 95,
   "metadata": {},
   "outputs": [],
   "source": [
    "res = tz.pipe(\n",
    "    dna,\n",
    "    c.map(lambda s: ''.join(s)),\n",
    "    lambda s: ''.join(s),\n",
    "    c.sliding_window(3),\n",
    "    c.map(lambda s: ''.join(s)),\n",
    "    tz.frequencies\n",
    ")"
   ]
  },
  {
   "cell_type": "code",
   "execution_count": 96,
   "metadata": {},
   "outputs": [
    {
     "data": {
      "text/plain": [
       "[('GGG', 56), ('GTG', 42), ('GGT', 40), ('TGG', 37), ('GGC', 32)]"
      ]
     },
     "execution_count": 96,
     "metadata": {},
     "output_type": "execute_result"
    }
   ],
   "source": [
    "[(k,v) for i, (k, v) in enumerate(sorted(res.items(), key=lambda x: -x[1])) if i < 5]"
   ]
  },
  {
   "cell_type": "code",
   "execution_count": null,
   "metadata": {
    "collapsed": true
   },
   "outputs": [],
   "source": []
  }
 ],
 "metadata": {
  "kernelspec": {
   "display_name": "Python 3",
   "language": "python",
   "name": "python3"
  },
  "language_info": {
   "codemirror_mode": {
    "name": "ipython",
    "version": 3
   },
   "file_extension": ".py",
   "mimetype": "text/x-python",
   "name": "python",
   "nbconvert_exporter": "python",
   "pygments_lexer": "ipython3",
   "version": "3.6.3"
  }
 },
 "nbformat": 4,
 "nbformat_minor": 2
}
